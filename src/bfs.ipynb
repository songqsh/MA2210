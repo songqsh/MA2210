{
  "cells": [
    {
      "cell_type": "markdown",
      "metadata": {
        "id": "view-in-github",
        "colab_type": "text"
      },
      "source": [
        "<a href=\"https://colab.research.google.com/github/songqsh/MA2210/blob/main/src/bfs.ipynb\" target=\"_parent\"><img src=\"https://colab.research.google.com/assets/colab-badge.svg\" alt=\"Open In Colab\"/></a>"
      ]
    },
    {
      "cell_type": "markdown",
      "metadata": {
        "id": "0YJSS56376aX"
      },
      "source": [
        "# An example on BFS enumeration\n",
        "\n"
      ]
    },
    {
      "cell_type": "code",
      "execution_count": null,
      "metadata": {
        "id": "LxkL8bK375hG"
      },
      "outputs": [],
      "source": [
        "# import packages\n",
        "import numpy as np\n",
        "import numpy.linalg as la\n",
        "np.set_printoptions(suppress=True)\n",
        "import itertools"
      ]
    },
    {
      "cell_type": "markdown",
      "metadata": {
        "collapsed": false,
        "id": "W9t9MWEQOlww",
        "pycharm": {
          "name": "#%% md\n"
        }
      },
      "source": [
        "Ex-LL formulation is as follows:\n",
        "$$\n",
        "\\begin{array}\n",
        "{ll}\n",
        "\\max z &=  4x_1 + 3 x_2\\\\\n",
        "s..t\\\\\n",
        "& x_1 + x_2 \\le 40\\\\\n",
        "& 2 x_1 + x_2 \\le 60\\\\\n",
        "& x_1, x_2 \\ge 0\n",
        "\\end{array}\n",
        "$$"
      ]
    },
    {
      "cell_type": "code",
      "execution_count": null,
      "metadata": {
        "id": "jw7rKh7AxW79"
      },
      "outputs": [],
      "source": [
        "# input augmented form\n",
        "A = np.array([[1.,1,1,0], [2.,1,0,1]])\n",
        "b = np.array([40,60])"
      ]
    },
    {
      "cell_type": "code",
      "execution_count": null,
      "metadata": {
        "id": "57Xo2--rOlwx",
        "pycharm": {
          "name": "#%%\n"
        }
      },
      "outputs": [],
      "source": [
        "# A function solving for bfs\n",
        "# inputs:\n",
        "#   list_of_bv: an index list of basic variables\n",
        "#   mat_A: 2d numpy array for matrix A\n",
        "#   vec_b: 1d numpy array with the length equal to row number of A\n",
        "# return:\n",
        "#   either basic solution or error message\n",
        "def bfs(list_of_bv, mat_A, vec_b):\n",
        "    try:\n",
        "        basic_solution = la.solve(mat_A[:, list_of_bv], vec_b)\n",
        "\n",
        "        if min(basic_solution) < 0:\n",
        "            raise (ValueError('Infeasible solution'))\n",
        "        return basic_solution\n",
        "\n",
        "    except la.LinAlgError as err:\n",
        "        return err\n",
        "\n",
        "    except ValueError as err:\n",
        "        return err"
      ]
    },
    {
      "cell_type": "code",
      "execution_count": null,
      "metadata": {
        "colab": {
          "base_uri": "https://localhost:8080/"
        },
        "id": "v7TNrCHPaGHP",
        "outputId": "252f3ecb-e0c9-47eb-8eeb-18fc2ab348cc"
      },
      "outputs": [
        {
          "output_type": "stream",
          "name": "stdout",
          "text": [
            "Infeasible solution\n",
            "[20. 20.]\n"
          ]
        }
      ],
      "source": [
        "bv = [0,3] #column indices for bv\n",
        "res = bfs(bv, A, b)\n",
        "print(res)\n",
        "bv = [0,1] #column indices for bv\n",
        "res = bfs(bv, A, b)\n",
        "print(res)"
      ]
    },
    {
      "cell_type": "code",
      "execution_count": null,
      "metadata": {
        "colab": {
          "base_uri": "https://localhost:8080/"
        },
        "id": "0iF7r5Il0cGH",
        "outputId": "960c45a0-40b6-4009-e20a-000b842505e6"
      },
      "outputs": [
        {
          "output_type": "stream",
          "name": "stdout",
          "text": [
            "checking bv (0, 1)\n",
            "checking bv (0, 2)\n",
            "checking bv (0, 3)\n",
            "checking bv (1, 2)\n",
            "checking bv (1, 3)\n",
            "checking bv (2, 3)\n"
          ]
        }
      ],
      "source": [
        "bvs = itertools.combinations(range(4), 2)\n",
        "\n",
        "for bv1 in bvs:\n",
        "    print(f'checking bv {bv1}')\n",
        "    # add codes here to check feasiblity"
      ]
    },
    {
      "cell_type": "markdown",
      "metadata": {
        "collapsed": false,
        "id": "8i9IwbkLOlwz",
        "pycharm": {
          "name": "#%% md\n"
        }
      },
      "source": [
        "__Ex__\n",
        "Consider the following LP:\n",
        "$$\n",
        "\\begin{array}{lll}\n",
        "\\max z = & 3 x_1 + 2 x_2 \\\\\n",
        "s.t. \\\\\n",
        "& 2x_1 + x_2 & \\le 100 \\\\\n",
        "& x_1 + x_2 & \\le 80 \\\\\n",
        "& x_1 & \\le 40 \\\\\n",
        "& x_1, x_2 \\ge 0.\n",
        "\\end{array}\n",
        "$$\n",
        "- List all the combination of basic variables and justify if they are feasible\n",
        "- Compute their corresponding $z$-value for the feasible ones and find the optimal solution."
      ]
    },
    {
      "cell_type": "markdown",
      "source": [
        "__Ex__. Consider the following problem:\n",
        "$$\\begin{array}{ll}\n",
        "\\max z = & 4 x_1 + 3 x_2 + 6 x_3 \\\\\n",
        "s.t. \\\\\n",
        "    & 3x_1 + x_2 + 3x_3 \\le 30 \\\\\n",
        "    & 2 x_1 + 2 x_2 + 3 x_3 \\le 40 \\\\\n",
        "    & x_1, x_2, x_3 \\ge 0.\n",
        "\\end{array}\n",
        "$$\n",
        "-  List all the combination of basic variables and justify if they are feasible\n",
        "- Compute their corresponding $z$-value for the feasible ones and find the optimal solution."
      ],
      "metadata": {
        "id": "HA7WSy3Rnm_X"
      }
    }
  ],
  "metadata": {
    "colab": {
      "name": "python_notebook.ipynb",
      "provenance": [],
      "include_colab_link": true
    },
    "kernelspec": {
      "display_name": "Python 3",
      "name": "python3"
    },
    "language_info": {
      "codemirror_mode": {
        "name": "ipython",
        "version": 3
      },
      "file_extension": ".py",
      "mimetype": "text/x-python",
      "name": "python",
      "nbconvert_exporter": "python",
      "pygments_lexer": "ipython3",
      "version": "3.11.7"
    }
  },
  "nbformat": 4,
  "nbformat_minor": 0
}